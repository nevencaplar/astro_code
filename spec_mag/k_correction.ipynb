{
 "cells": [
  {
   "cell_type": "markdown",
   "id": "administrative-channel",
   "metadata": {},
   "source": [
    "## Implementing Code to do K-correction\n",
    "We assume that the same bandpass is used at the observed-frame and the rest-frame."
   ]
  },
  {
   "cell_type": "code",
   "execution_count": 1,
   "id": "median-minute",
   "metadata": {},
   "outputs": [],
   "source": [
    "# import basic packages\n",
    "import numpy as np\n",
    "import pandas as pd\n",
    "import matplotlib.pyplot as plt\n",
    "import matplotlib as mpl\n",
    "import os, sys\n",
    "\n",
    "# use mpl style on github\n",
    "mpl.rc_file('https://raw.githubusercontent.com/ywx649999311/configs/master/viz/yuBasic.rc')"
   ]
  },
  {
   "cell_type": "markdown",
   "id": "egyptian-popularity",
   "metadata": {},
   "source": [
    "### 1. Concepts"
   ]
  },
  {
   "cell_type": "markdown",
   "id": "natural-cyprus",
   "metadata": {},
   "source": [
    "$$m = M + DM + K(z)$$\\\n",
    "where $m$ is the apparent magnitude, $M$ is the absolute magnitude, $DM$ is the distance modulus, and $K(z)$ is the so-called 'K-correction'\n",
    "\n",
    "$$DM = 5\\log_{10}[\\frac{D_{L}}{10 pc}]$$\n",
    "\n",
    "Here, $D_{L}$ is the luminosity distance. Assuming a flat universe and negligible contribution from radiation (Matter and Lambda only universe), then:\n",
    "\n",
    "$$D_L = (1+z)*D_C$$\n",
    "\n",
    "where $D_C$ is called the 'comoving' distance along the line of sight, which can be computed from,\n",
    "\n",
    "$$D_C = \\frac{c}{H_0} \\int_{0}^{z} [{\\Omega_{M, 0}*(1+z)^3 + \\Omega_{\\Lambda, 0}}]^{-1/2}\\, dz$$\n",
    "\n",
    "The above form is taken from [[Hogg+99]](https://arxiv.org/pdf/astro-ph/9905116.pdf), which expressed it in terms of redshift ($z$) rather than the scale factor ($a$) as was used in the Ryden textbook. However, these are equivalent after a change of variable. \n",
    "\n",
    "Let's assume the bandpass/filter is the same at both the observed-frame and the rest-frame, and that the magnitudes are on the AB system, From [[Hogg+01]](https://arxiv.org/pdf/astro-ph/0210394.pdf) we can write down the equation from $K(z)$ as (the plank constant $h$ is left out),\n",
    "\n",
    "$$K(z)=-2.5 \\log _{10}\\left[[1+z] \\frac{\\int \\frac{\\mathrm{d} \\nu_{o}}{\\nu_{o}} f_{\\nu_{o}}\\left(\\nu_{o}\\right) A\\left(\\nu_{o}\\right)}{\\int \\frac{\\mathrm{d} \\nu_{e}}{\\nu_{e}} f_{\\nu}\\left(\\frac{\\nu_{e}}{1+z}\\right) A\\left(\\nu_{e}\\right)}\\right]$$\n",
    "\n",
    "In the above equation, we have the part of Equation 8 in [[Hogg+01]] that computes the AB standard flux canceled out, because we have used the same bandpass at both the observed and rest frame. In addition, if we substitute $f_{\\nu}$ with a power-law continuum in the form of $f_{\\nu} = \\nu^{\\alpha}$, then the above equation becomes:\n",
    "$$K(z)=-2.5 \\log _{10}\\left[[1+z] \\frac{\\int \\mathrm{d}\\nu_{o}\\,{\\nu_{o}}^{\\alpha-1} A\\left(\\nu_{0}\\right)}{\\int \\mathrm{d} \\nu_{e}\\,{\\nu_{e}}^{\\alpha-1} (1+z)^{-\\alpha}\n",
    "\\,A\\left(\\nu_{e}\\right)}\\right]$$\n",
    "\n",
    "$$K(z)=-2.5 \\log _{10}\\left[[1+z]^{(1+\\alpha)} \\frac{\\int \\mathrm{d}\\nu_{o}\\,{\\nu_{o}}^{\\alpha-1} A\\left(\\nu_{0}\\right)}{\\int \\mathrm{d} \\nu_{e}\\,{\\nu_{e}}^{\\alpha-1}\n",
    "\\,A\\left(\\nu_{e}\\right)}\\right] = -2.5 \\log _{10}\\left[[1+z]^{(1+\\alpha)}\\right]$$"
   ]
  },
  {
   "cell_type": "markdown",
   "id": "apart-miniature",
   "metadata": {},
   "source": [
    "### **Remark**\n",
    "When the bandpasses used are the same (the usual case) and the SED is a simple power-law, the K-correction is simply:\n",
    "\n",
    "$$K(z) = -2.5 \\log _{10}\\left[[1+z]^{(1+\\alpha)}\\right]$$\n",
    "\n",
    "Thus, to compute the K-corrected absolute magnitude for an extragalactic source, we only need to code up two functions, one from the luminosity distance $D_L$, which requires some numerical integration and the simple K-correction formula. Lastly, to K-correct the absolute magnitude to $z = 2$, we only need:\n",
    "\n",
    "$$ M(z=0) = M(z=2) + 2.5\\log(1+\\alpha)\\log(1+2)$$\n",
    "\n",
    "The above conversion is pulled from [[Richards+06]] QLF paper and $M(z=0)$ is the nominal K-corrected absolute magnitude."
   ]
  }
 ],
 "metadata": {
  "kernelspec": {
   "display_name": "Python 3",
   "language": "python",
   "name": "python3"
  },
  "language_info": {
   "codemirror_mode": {
    "name": "ipython",
    "version": 3
   },
   "file_extension": ".py",
   "mimetype": "text/x-python",
   "name": "python",
   "nbconvert_exporter": "python",
   "pygments_lexer": "ipython3",
   "version": "3.8.6"
  }
 },
 "nbformat": 4,
 "nbformat_minor": 5
}
