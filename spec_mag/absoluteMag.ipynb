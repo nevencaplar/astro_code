{
 "cells": [
  {
   "cell_type": "markdown",
   "id": "mineral-shift",
   "metadata": {},
   "source": [
    "## Compute K-corrected Absolute Magnitude\n",
    "Again, we assume the two bandpasses in the rest and observed-frame are the same."
   ]
  },
  {
   "cell_type": "code",
   "execution_count": 1,
   "id": "upset-wilson",
   "metadata": {},
   "outputs": [],
   "source": [
    "# import basic packages\n",
    "import numpy as np\n",
    "import pandas as pd\n",
    "import matplotlib.pyplot as plt\n",
    "import matplotlib as mpl\n",
    "import os, sys\n",
    "\n",
    "# use mpl style on github\n",
    "mpl.rc_file('https://raw.githubusercontent.com/ywx649999311/configs/master/viz/yuBasic.rc')"
   ]
  },
  {
   "cell_type": "markdown",
   "id": "scheduled-walker",
   "metadata": {},
   "source": [
    "### 1. Background\n",
    "#### 1.1 Overview"
   ]
  },
  {
   "cell_type": "markdown",
   "id": "sorted-bahamas",
   "metadata": {},
   "source": [
    "$$m = M + DM + K(z)$$\n",
    "\n",
    "where $m$ is the apparent magnitude, $M$ is the absolute magnitude, $DM$ is the distance modulus, and $K(z)$ is the so-called 'K-correction'. This leads to a formula for $M$,\n",
    "\n",
    "$$M = m - DM - K(z)$$\n",
    "\n",
    "From the notes in [K-correction](./k_correction.ipynb) notebook, we can get a final equation for the k-correction absolute magnitude as (for a power-law SED in the form of $f_{\\nu}=\\nu^{\\alpha}$),\n",
    "\n",
    "$$M = m - 5\\log_{10}[\\frac{D_{L}}{10 pc}] + 2.5 \\log _{10}\\left[[1+z]^{(1+\\alpha)}\\right]$$"
   ]
  },
  {
   "cell_type": "markdown",
   "id": "altered-volunteer",
   "metadata": {},
   "source": [
    "#### 1.2 Approximation for the Luminosity Distance\n",
    "Surely, we can integrate the equation of $D_L$ over redshift, but an approximation exists which can also take advantage of. The full formula is given by Equation 1 in [[Pen+98]](https://iopscience.iop.org/article/10.1086/313167/fulltext/37400.text.html). This approximation has an error of 0.4%. Note that $\\Omega_o$ in [Pen+98] is in fact the presureless matter density---$\\Omega_M$"
   ]
  },
  {
   "cell_type": "markdown",
   "id": "generic-venice",
   "metadata": {},
   "source": [
    "### 2. The Code\n",
    "- Function for the $D_L$ term\n",
    "- Function for the k-correction term"
   ]
  },
  {
   "cell_type": "markdown",
   "id": "opened-karen",
   "metadata": {},
   "source": [
    "#### 2.1 Pen's D_L approx & K_corr"
   ]
  },
  {
   "cell_type": "code",
   "execution_count": 116,
   "id": "coupled-context",
   "metadata": {},
   "outputs": [],
   "source": [
    "def s_cubed(omega_m):\n",
    "    \"\"\"Compute the s function in Eqn 1 of Pen+98.\"\"\"\n",
    "    return ((1-omega_m)/omega_m)\n",
    "\n",
    "def eta(a, omega_m):\n",
    "    \"\"\"Compute the eta function in Eqn 1 of Pen+98.\"\"\"\n",
    "    s = s_cubed(omega_m)**(1/3)\n",
    "    fac1 = 2*np.sqrt(s**3 + 1)\n",
    "    fac2 = (1/a**4 - 0.154*s/a**3 + 0.4304*s**2/a**2 + 0.19097*s**3/a \n",
    "            + 0.066941*s**4)**(-1/8)\n",
    "    return fac1*fac2\n",
    "\n",
    "def distMod(z, omega_m, h):\n",
    "    \"\"\"Compute distance module using the Pen+98 approx.\"\"\"\n",
    "    DM = -40 - 5*np.log10(\n",
    "        (3/h)*(1+z)*(eta(1, omega_m) - eta(1/(1+z), omega_m))\n",
    "    )\n",
    "    return DM"
   ]
  },
  {
   "cell_type": "code",
   "execution_count": 118,
   "id": "pressing-assembly",
   "metadata": {},
   "outputs": [],
   "source": [
    "def k_corr(z, a):\n",
    "    \"\"\"Compute the K-correction term given the power-law index and redshift.\"\"\"\n",
    "    return 2.5*(1+a)*np.log10(1+z)"
   ]
  },
  {
   "cell_type": "markdown",
   "id": "entitled-antarctica",
   "metadata": {},
   "source": [
    "#### 2.2 All together"
   ]
  },
  {
   "cell_type": "code",
   "execution_count": 124,
   "id": "suited-board",
   "metadata": {},
   "outputs": [],
   "source": [
    "def absMag(m, z, h=0.7, omega_m=0.3, alpha=-0.5):\n",
    "    \"\"\"Compute absolute mag k-corrected to z=0.\"\"\"\n",
    "    DM = distMod(z, omega_m, h)\n",
    "    k_z = k_corr(z, alpha)\n",
    "    return m + DM + k_z\n",
    "def absMag_2(m, z, h=0.7, omega_m=0.3, alpha=-0.5):\n",
    "    \"\"\"Compute absolute mag k-corrected to z=2 following [Richards+06]\"\"\"\n",
    "    return abs_mag(m, z, h, omega_m, alpha) - 2.5*(1+alpha)*np.log10(1+2)"
   ]
  },
  {
   "cell_type": "markdown",
   "id": "second-trial",
   "metadata": {},
   "source": [
    "##### Test"
   ]
  },
  {
   "cell_type": "code",
   "execution_count": 114,
   "id": "passive-ethnic",
   "metadata": {},
   "outputs": [],
   "source": [
    "z = 1\n",
    "h = 0.7\n",
    "alpha = -0.5\n",
    "m = 19.1\n",
    "omega_m = 0.3"
   ]
  },
  {
   "cell_type": "code",
   "execution_count": 125,
   "id": "marine-preliminary",
   "metadata": {},
   "outputs": [
    {
     "name": "stdout",
     "output_type": "stream",
     "text": [
      "M(z=0): -24.627148589323404\n",
      "M(z=0): -25.223550157722983\n"
     ]
    }
   ],
   "source": [
    "print(f\"M(z=0): {absMag(m, z)}\")\n",
    "print(f\"M(z=0): {absMag_2(m, z)}\")"
   ]
  }
 ],
 "metadata": {
  "kernelspec": {
   "display_name": "Python 3",
   "language": "python",
   "name": "python3"
  },
  "language_info": {
   "codemirror_mode": {
    "name": "ipython",
    "version": 3
   },
   "file_extension": ".py",
   "mimetype": "text/x-python",
   "name": "python",
   "nbconvert_exporter": "python",
   "pygments_lexer": "ipython3",
   "version": "3.8.6"
  }
 },
 "nbformat": 4,
 "nbformat_minor": 5
}
